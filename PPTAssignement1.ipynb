{
 "cells": [
  {
   "cell_type": "markdown",
   "id": "32ba8c1e",
   "metadata": {},
   "source": [
    "## Assignement 1 Q1.\n",
    "\n",
    "Assignement Link : https://pwskills.notion.site/Assignment-Questions-1-131ecc8873184f8f9ec0b6254a24bd38"
   ]
  },
  {
   "cell_type": "code",
   "execution_count": 95,
   "id": "a5b1fc01",
   "metadata": {},
   "outputs": [
    {
     "name": "stdout",
     "output_type": "stream",
     "text": [
      "[1, 4]\n"
     ]
    }
   ],
   "source": [
    "class X:\n",
    "    def __init__(self):\n",
    "        self.first_index = 0\n",
    "        self.second_index = 0\n",
    "    def __str__(self):\n",
    "        return [self.first_index, self.second_index]\n",
    "    \n",
    " \n",
    "def getIndices(arr, target):\n",
    "    indices = X()\n",
    "    first_number = 0\n",
    "    second_number = 0\n",
    "    result = 0\n",
    "    for i in range(0,len(arr)):\n",
    "        first_number = arr[i]\n",
    "        for j in range(i+1,len(arr)):\n",
    "            second_number = arr[j]\n",
    "            result = first_number + second_number\n",
    "            if result == target:\n",
    "                indices.first_index = i\n",
    "                indices.second_index = j\n",
    "                break\n",
    "    return [indices.first_index,indices.second_index]\n",
    "            \n",
    "        \n",
    " \n",
    " \n",
    "# Driver Code\n",
    "if __name__ == \"__main__\":\n",
    "    arr = [20, 5, 2, 8, 10, 30]\n",
    "    target = 15\n",
    "    indices = getIndices(arr, target)\n",
    "    print(list(indices))"
   ]
  },
  {
   "cell_type": "markdown",
   "id": "26a27128",
   "metadata": {},
   "source": [
    "Q2 :"
   ]
  },
  {
   "cell_type": "code",
   "execution_count": 7,
   "id": "8481af60",
   "metadata": {},
   "outputs": [
    {
     "name": "stdout",
     "output_type": "stream",
     "text": [
      "7\n"
     ]
    }
   ],
   "source": [
    "def getNotMatchedCount(nums,val):\n",
    "    nums = list(nums)\n",
    "    if val in nums:\n",
    "        [nums.remove(i) for i in nums if i==val]\n",
    "    k = len(nums)\n",
    "    return k\n",
    "\n",
    "ls = [12,3,4,5,6,8,12,3,5,12]\n",
    "k = getNotMatchedCount(ls,12)\n",
    "print(k)"
   ]
  },
  {
   "cell_type": "markdown",
   "id": "7762c3d5",
   "metadata": {},
   "source": [
    "## Q3"
   ]
  },
  {
   "cell_type": "code",
   "execution_count": 8,
   "id": "a079da9e",
   "metadata": {},
   "outputs": [
    {
     "data": {
      "text/plain": [
       "[12, 3, 4, 5, 6, 8, 12, 3, 5, 12]"
      ]
     },
     "execution_count": 8,
     "metadata": {},
     "output_type": "execute_result"
    }
   ],
   "source": [
    "ls = [12,3,4,5,6,8,12,3,5,12]\n",
    "ls\n"
   ]
  },
  {
   "cell_type": "code",
   "execution_count": 9,
   "id": "be51d842",
   "metadata": {},
   "outputs": [
    {
     "name": "stdout",
     "output_type": "stream",
     "text": [
      "Number found at index 6 \n",
      " Number not found and should be at index 1\n"
     ]
    }
   ],
   "source": [
    "def binarySearch(nums:list, target:int)-> int:\n",
    "    high = len(nums)-1\n",
    "    low = 0\n",
    "    while low <= high :\n",
    "        mid = (high+low)//2\n",
    "        if nums[mid] == target:\n",
    "            return f'Number found at index {mid}'\n",
    "        elif nums[mid] > target :\n",
    "            high = mid -1\n",
    "        else :\n",
    "            low = mid + 1\n",
    "    else:\n",
    "        if(nums[mid] > target):\n",
    "            return f'Number not found and should be at index {mid}'\n",
    "        else:\n",
    "            return f'Number not found and should be at index {mid+1}'\n",
    "\n",
    "ls = [1,4,6,8,9,12,34,57]\n",
    "found_index = binarySearch(ls,34)\n",
    "not_found_index = binarySearch(ls,3)\n",
    "print(found_index,'\\n',not_found_index)"
   ]
  },
  {
   "cell_type": "markdown",
   "id": "0959c783",
   "metadata": {},
   "source": [
    "## Q4\n"
   ]
  },
  {
   "cell_type": "code",
   "execution_count": 92,
   "id": "41865412",
   "metadata": {},
   "outputs": [],
   "source": [
    "def incrementDigit(arr : list)-> list:\n",
    "    carry = 0\n",
    "    l = len(arr)\n",
    "    for i in range(l-1,-1,-1):\n",
    "        carry = 0 # reset carry\n",
    "        last_digit = arr[i]\n",
    "        last_digit += 1 # increment \n",
    "        if last_digit < 10 :\n",
    "            arr[i] = last_digit\n",
    "            break\n",
    "        else :\n",
    "            ld = last_digit % 10\n",
    "            carry = last_digit // 10\n",
    "            arr[i] = ld\n",
    "    if carry > 0 :\n",
    "        arr.insert(0,carry)\n",
    "        \n",
    "    return arr\n",
    "        \n",
    "    \n",
    "    "
   ]
  },
  {
   "cell_type": "code",
   "execution_count": 90,
   "id": "46e22ee4",
   "metadata": {},
   "outputs": [
    {
     "name": "stdout",
     "output_type": "stream",
     "text": [
      "[1, 2, 4]\n"
     ]
    }
   ],
   "source": [
    "numberArray = [1,2,3]\n",
    "numberArray = incrementDigit(numberArray)\n",
    "print(numberArray)"
   ]
  },
  {
   "cell_type": "code",
   "execution_count": 93,
   "id": "502facfb",
   "metadata": {},
   "outputs": [
    {
     "name": "stdout",
     "output_type": "stream",
     "text": [
      "[2, 0, 0]\n"
     ]
    }
   ],
   "source": [
    "numberArray = [1,9,9]\n",
    "numberArray = incrementDigit(numberArray)\n",
    "print(numberArray)"
   ]
  },
  {
   "cell_type": "code",
   "execution_count": 94,
   "id": "fb1bbd29",
   "metadata": {},
   "outputs": [
    {
     "name": "stdout",
     "output_type": "stream",
     "text": [
      "[1, 0, 0, 0]\n"
     ]
    }
   ],
   "source": [
    "numberArray = [9,9,9]\n",
    "numberArray = incrementDigit(numberArray)\n",
    "print(numberArray)"
   ]
  },
  {
   "cell_type": "markdown",
   "id": "11a28625",
   "metadata": {},
   "source": [
    "# Q5\n"
   ]
  },
  {
   "cell_type": "code",
   "execution_count": 98,
   "id": "7da81cef",
   "metadata": {},
   "outputs": [
    {
     "name": "stdout",
     "output_type": "stream",
     "text": [
      "[1, 2, 2, 3, 5, 6]\n"
     ]
    }
   ],
   "source": [
    "def mergeArrays( nums1:list,nums2:list,m:int,n:int)->list:\n",
    "    j=0\n",
    "    for i in range(m,m+n):\n",
    "        nums1[i] = nums2[j]\n",
    "        j+=1\n",
    "    nums1.sort()\n",
    "    return nums1\n",
    "\n",
    "\n",
    "nums1 = [1,2,3,0,0,0]\n",
    "nums2 = [2,5,6]\n",
    "m=3\n",
    "n=3\n",
    "result = mergeArrays(nums1,nums2,m,n)\n",
    "print(result)\n",
    "    \n",
    "    "
   ]
  },
  {
   "cell_type": "markdown",
   "id": "d8a6f396",
   "metadata": {},
   "source": [
    "# Q 6"
   ]
  },
  {
   "cell_type": "code",
   "execution_count": 99,
   "id": "a6590c7a",
   "metadata": {},
   "outputs": [
    {
     "name": "stdout",
     "output_type": "stream",
     "text": [
      "True\n",
      "False\n"
     ]
    }
   ],
   "source": [
    "def is_non_distinct_array(nums:list)-> bool:   \n",
    "    l = len(nums)\n",
    "    for i in range(0,l):\n",
    "        search = nums[i]\n",
    "        for j in range(i+1,l):\n",
    "            if nums[i] == nums[j]:\n",
    "                return True\n",
    "    return False\n",
    "\n",
    "nums = [1,2,3,1]\n",
    "ls = [1,2,3,4,5,6]\n",
    "print(is_non_distinct_array(nums))\n",
    "print(is_non_distinct_array(ls))"
   ]
  },
  {
   "cell_type": "markdown",
   "id": "de90d1a1",
   "metadata": {},
   "source": [
    "# Q7"
   ]
  },
  {
   "cell_type": "code",
   "execution_count": 100,
   "id": "47a6040e",
   "metadata": {},
   "outputs": [],
   "source": [
    "def get_modified_array(nums):\n",
    "    for i in nums:\n",
    "        if i == 0:\n",
    "            del nums[nums.index(i)]\n",
    "            nums.append(0)\n",
    "            \n",
    "    return nums"
   ]
  },
  {
   "cell_type": "code",
   "execution_count": 102,
   "id": "44dd884f",
   "metadata": {},
   "outputs": [
    {
     "data": {
      "text/plain": [
       "[1, 3, 12, 0, 0, 0, 0]"
      ]
     },
     "execution_count": 102,
     "metadata": {},
     "output_type": "execute_result"
    }
   ],
   "source": [
    "nums = [0,1,0,3,0,0,12]\n",
    "get_modified_array(nums)"
   ]
  },
  {
   "cell_type": "markdown",
   "id": "c0b30f0e",
   "metadata": {},
   "source": [
    "# Q8"
   ]
  },
  {
   "cell_type": "code",
   "execution_count": 103,
   "id": "9e08d89a",
   "metadata": {},
   "outputs": [
    {
     "name": "stdout",
     "output_type": "stream",
     "text": [
      "[6, 7]\n"
     ]
    }
   ],
   "source": [
    "def get_duplicate(nums):\n",
    "    result = list()\n",
    "    for i in range(0,len(nums)):\n",
    "        if nums[i] == nums[i+1]:\n",
    "            result = [nums[i],nums[i]+1]\n",
    "            break\n",
    "    return result\n",
    "\n",
    "nums = [1,2,3,4,5,6,6,7,8,9]\n",
    "result = get_duplicate(nums)\n",
    "print(result)\n"
   ]
  },
  {
   "cell_type": "code",
   "execution_count": null,
   "id": "8595a5ff",
   "metadata": {},
   "outputs": [],
   "source": []
  }
 ],
 "metadata": {
  "kernelspec": {
   "display_name": "Python 3 (ipykernel)",
   "language": "python",
   "name": "python3"
  },
  "language_info": {
   "codemirror_mode": {
    "name": "ipython",
    "version": 3
   },
   "file_extension": ".py",
   "mimetype": "text/x-python",
   "name": "python",
   "nbconvert_exporter": "python",
   "pygments_lexer": "ipython3",
   "version": "3.8.10"
  }
 },
 "nbformat": 4,
 "nbformat_minor": 5
}
