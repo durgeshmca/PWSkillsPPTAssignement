{
 "cells": [
  {
   "cell_type": "markdown",
   "id": "e1bee63e-6e06-48d7-8e50-ad7dd020f677",
   "metadata": {},
   "source": [
    "# PPT Assignement 3"
   ]
  },
  {
   "cell_type": "markdown",
   "id": "2f907961-718e-4111-b571-5723a6302cb6",
   "metadata": {},
   "source": [
    "## Assignement link : https://pwskills.notion.site/Assignment-Questions-3-0fdb34c1e4b943c3b20e30b8d6b3ee67"
   ]
  },
  {
   "cell_type": "markdown",
   "id": "ed22da70-84db-4d7d-a1ea-f1c5c26546cf",
   "metadata": {},
   "source": [
    "## Ans 1"
   ]
  },
  {
   "cell_type": "code",
   "execution_count": 1,
   "id": "44aecba3-e28c-4c1f-b226-e4e3fad99a1e",
   "metadata": {
    "tags": []
   },
   "outputs": [],
   "source": [
    "def threeSumClosest(nums, target):\n",
    "    nums.sort()\n",
    "    n = len(nums)\n",
    "    closestSum = float('inf')\n",
    "\n",
    "    for i in range(n - 2):\n",
    "        left = i + 1\n",
    "        right = n - 1\n",
    "\n",
    "        while left < right:\n",
    "            currentSum = nums[i] + nums[left] + nums[right]\n",
    "            if currentSum == target:\n",
    "                return target\n",
    "\n",
    "            if abs(currentSum - target) < abs(closestSum - target):\n",
    "                closestSum = currentSum\n",
    "\n",
    "            if currentSum < target:\n",
    "                left += 1\n",
    "            else:\n",
    "                right -= 1\n",
    "\n",
    "    return closestSum\n"
   ]
  },
  {
   "cell_type": "code",
   "execution_count": 2,
   "id": "524996cf-a4ba-422c-be15-f8b4dd4cc27f",
   "metadata": {
    "tags": []
   },
   "outputs": [
    {
     "data": {
      "text/plain": [
       "2"
      ]
     },
     "execution_count": 2,
     "metadata": {},
     "output_type": "execute_result"
    }
   ],
   "source": [
    "nums = [-1,2,1,-4]\n",
    "target = 1\n",
    "threeSumClosest(nums,target)"
   ]
  },
  {
   "cell_type": "markdown",
   "id": "7e262bc6-0d02-49a1-add7-5816c38cc2aa",
   "metadata": {},
   "source": [
    "# Ans 2"
   ]
  },
  {
   "cell_type": "code",
   "execution_count": 3,
   "id": "97936626-4425-4f50-8476-47e9b5a04247",
   "metadata": {
    "tags": []
   },
   "outputs": [],
   "source": [
    "def fourSum(nums, target):\n",
    "    nums.sort()\n",
    "    n = len(nums)\n",
    "    result = []\n",
    "\n",
    "    for a in range(n - 3):\n",
    "        if a > 0 and nums[a] == nums[a - 1]:\n",
    "            continue\n",
    "\n",
    "        for b in range(a + 1, n - 2):\n",
    "            if b > a + 1 and nums[b] == nums[b - 1]:\n",
    "                continue\n",
    "\n",
    "            left = b + 1\n",
    "            right = n - 1\n",
    "\n",
    "            while left < right:\n",
    "                currentSum = nums[a] + nums[b] + nums[left] + nums[right]\n",
    "\n",
    "                if currentSum == target:\n",
    "                    result.append([nums[a], nums[b], nums[left], nums[right]])\n",
    "                    left += 1\n",
    "                    right -= 1\n",
    "\n",
    "                    while left < right and nums[left] == nums[left - 1]:\n",
    "                        left += 1\n",
    "\n",
    "                    while left < right and nums[right] == nums[right + 1]:\n",
    "                        right -= 1\n",
    "\n",
    "                elif currentSum < target:\n",
    "                    left += 1\n",
    "                else:\n",
    "                    right -= 1\n",
    "\n",
    "    return result\n"
   ]
  },
  {
   "cell_type": "code",
   "execution_count": 4,
   "id": "32350883-d6a4-4cba-a078-98b44e7575b4",
   "metadata": {
    "tags": []
   },
   "outputs": [
    {
     "data": {
      "text/plain": [
       "[[-2, -1, 1, 2], [-2, 0, 0, 2], [-1, 0, 0, 1]]"
      ]
     },
     "execution_count": 4,
     "metadata": {},
     "output_type": "execute_result"
    }
   ],
   "source": [
    "nums = [1,0,-1,0,-2,2]\n",
    "target = 0\n",
    "fourSum(nums,target)"
   ]
  },
  {
   "cell_type": "markdown",
   "id": "5a3b6f49-e69a-443d-bef3-b059a4829351",
   "metadata": {},
   "source": [
    "# Ans 3"
   ]
  },
  {
   "cell_type": "code",
   "execution_count": 5,
   "id": "e6a4524e-2d45-41fd-ae88-022262776b42",
   "metadata": {
    "tags": []
   },
   "outputs": [],
   "source": [
    "def nextPermutation(nums):\n",
    "    # Find the pivot index\n",
    "    pivot = -1\n",
    "    for i in range(len(nums) - 2, -1, -1):\n",
    "        if nums[i] < nums[i + 1]:\n",
    "            pivot = i\n",
    "            break\n",
    "\n",
    "    if pivot == -1:\n",
    "        nums.reverse()  # Array is in descending order, so reverse it\n",
    "        return nums\n",
    "\n",
    "    # Find the successor index\n",
    "    successor = -1\n",
    "    for i in range(len(nums) - 1, pivot, -1):\n",
    "        if nums[i] > nums[pivot]:\n",
    "            successor = i\n",
    "            break\n",
    "\n",
    "    # Swap pivot and successor\n",
    "    nums[pivot], nums[successor] = nums[successor], nums[pivot]\n",
    "\n",
    "    # Reverse the subarray to the right of pivot\n",
    "    left = pivot + 1\n",
    "    right = len(nums) - 1\n",
    "    while left < right:\n",
    "        nums[left], nums[right] = nums[right], nums[left]\n",
    "        left += 1\n",
    "        right -= 1\n",
    "\n",
    "    return nums\n"
   ]
  },
  {
   "cell_type": "code",
   "execution_count": 6,
   "id": "cb485195-510c-4f4d-a8ee-0100431286a3",
   "metadata": {
    "tags": []
   },
   "outputs": [
    {
     "data": {
      "text/plain": [
       "[1, 3, 2]"
      ]
     },
     "execution_count": 6,
     "metadata": {},
     "output_type": "execute_result"
    }
   ],
   "source": [
    "nums = [1,2,3]\n",
    "nextPermutation(nums)"
   ]
  },
  {
   "cell_type": "markdown",
   "id": "4ff15ceb-cbdc-49f8-a117-85ca8bd2e71f",
   "metadata": {},
   "source": [
    "## Ans 4"
   ]
  },
  {
   "cell_type": "code",
   "execution_count": 7,
   "id": "e62d3b26-41ba-436f-afdb-2b611ef18706",
   "metadata": {
    "tags": []
   },
   "outputs": [
    {
     "name": "stdout",
     "output_type": "stream",
     "text": [
      "Number 34 found at index 6 \n",
      " Number 3 not found and should be at index 1\n"
     ]
    }
   ],
   "source": [
    "def binarySearch(nums:list, target:int)-> int:\n",
    "    high = len(nums)-1\n",
    "    low = 0\n",
    "    while low <= high :\n",
    "        mid = (high+low)//2\n",
    "        if nums[mid] == target:\n",
    "            return f'Number {target} found at index {mid}'\n",
    "        elif nums[mid] > target :\n",
    "            high = mid -1\n",
    "        else :\n",
    "            low = mid + 1\n",
    "    else:\n",
    "        if(nums[mid] > target):\n",
    "            return f'Number {target} not found and should be at index {mid}'\n",
    "        else:\n",
    "            return f'Number {target} not found and should be at index {mid+1}'\n",
    "\n",
    "ls = [1,4,6,8,9,12,34,57]\n",
    "found_index = binarySearch(ls,34)\n",
    "not_found_index = binarySearch(ls,3)\n",
    "print(found_index,'\\n',not_found_index)"
   ]
  },
  {
   "cell_type": "markdown",
   "id": "eb5e76a7-7724-4d78-8a63-7c2d35e54beb",
   "metadata": {},
   "source": [
    "## Ans 5"
   ]
  },
  {
   "cell_type": "code",
   "execution_count": 8,
   "id": "ebed1a5b-d17a-426d-82f8-f918888dd18f",
   "metadata": {
    "tags": []
   },
   "outputs": [],
   "source": [
    "def incrementDigit(arr : list)-> list:\n",
    "    carry = 0\n",
    "    l = len(arr)\n",
    "    for i in range(l-1,-1,-1):\n",
    "        carry = 0 # reset carry\n",
    "        last_digit = arr[i]\n",
    "        last_digit += 1 # increment \n",
    "        if last_digit < 10 :\n",
    "            arr[i] = last_digit\n",
    "            break\n",
    "        else :\n",
    "            ld = last_digit % 10\n",
    "            carry = last_digit // 10\n",
    "            arr[i] = ld\n",
    "    if carry > 0 :\n",
    "        arr.insert(0,carry)\n",
    "        \n",
    "    return arr"
   ]
  },
  {
   "cell_type": "code",
   "execution_count": 9,
   "id": "392c72ec-1f17-4f6a-a3b4-0a6cbf8b57a8",
   "metadata": {
    "tags": []
   },
   "outputs": [
    {
     "name": "stdout",
     "output_type": "stream",
     "text": [
      "[1, 2, 4]\n",
      "[2, 0, 0]\n",
      "[1, 0, 0, 0]\n"
     ]
    }
   ],
   "source": [
    "numberArray = [1,2,3]\n",
    "numberArray = incrementDigit(numberArray)\n",
    "print(numberArray)\n",
    "\n",
    "numberArray = [1,9,9]\n",
    "numberArray = incrementDigit(numberArray)\n",
    "print(numberArray)\n",
    "\n",
    "numberArray = [9,9,9]\n",
    "numberArray = incrementDigit(numberArray)\n",
    "print(numberArray)\n",
    "\n",
    "\n"
   ]
  },
  {
   "cell_type": "markdown",
   "id": "6fc4e333-b307-4f42-90a2-0d5186b394bd",
   "metadata": {},
   "source": [
    "## Ans 6"
   ]
  },
  {
   "cell_type": "code",
   "execution_count": 10,
   "id": "341ecb49-6c77-452c-b43c-5cc5c7ae86b8",
   "metadata": {
    "tags": []
   },
   "outputs": [],
   "source": [
    "def findSingle(nums):\n",
    "    ls = []\n",
    "    for i in range(len(nums)):\n",
    "        if nums[i] not in ls:\n",
    "            ls.append(nums[i])\n",
    "        else :\n",
    "            ls.remove(nums[i])\n",
    "    return ls[0]"
   ]
  },
  {
   "cell_type": "code",
   "execution_count": 11,
   "id": "6fb6efa3-abc1-4306-a5d6-6fa42a7abff1",
   "metadata": {
    "tags": []
   },
   "outputs": [
    {
     "data": {
      "text/plain": [
       "1"
      ]
     },
     "execution_count": 11,
     "metadata": {},
     "output_type": "execute_result"
    }
   ],
   "source": [
    "nums = [2,2,1]\n",
    "findSingle(nums)"
   ]
  },
  {
   "cell_type": "markdown",
   "id": "ebfd51bf-460e-4a64-95f7-fd434a093b36",
   "metadata": {},
   "source": [
    "## Ans 7"
   ]
  },
  {
   "cell_type": "code",
   "execution_count": 12,
   "id": "ff26eb3a-c40e-4127-8f11-62cbf57cc9b5",
   "metadata": {
    "tags": []
   },
   "outputs": [],
   "source": [
    "def get_shortest_sorted_list(nums,upper,lower):\n",
    "    \n",
    "    subList = [] \n",
    "    l = len(nums)\n",
    "    for i in range(l):\n",
    "\n",
    "        if i== 0 and  nums[i] > lower:\n",
    "            sub_low_bound = lower\n",
    "            sub_up_bound = nums[i] -1\n",
    "            subList.append([sub_low_bound,sub_up_bound])\n",
    "\n",
    "        if i == l-1 and nums[i] < upper:\n",
    "            sub_up_bound = upper\n",
    "            sub_low_bound = nums[i]+1\n",
    "\n",
    "        elif nums[i] == nums[i+1]+1 :\n",
    "            continue\n",
    "        else:\n",
    "            sub_up_bound = nums[i+1]-1\n",
    "            sub_low_bound = nums[i]+1\n",
    "        subList.append([sub_low_bound,sub_up_bound])\n",
    "    return subList"
   ]
  },
  {
   "cell_type": "code",
   "execution_count": 13,
   "id": "64b44cc7-cf3f-4882-8cd6-c37f290abef9",
   "metadata": {
    "tags": []
   },
   "outputs": [
    {
     "data": {
      "text/plain": [
       "[[0, 0], [2, 2], [4, 49], [51, 74], [76, 99]]"
      ]
     },
     "execution_count": 13,
     "metadata": {},
     "output_type": "execute_result"
    }
   ],
   "source": [
    "nums = [1,3,50,75]\n",
    "lower = 0\n",
    "upper = 99\n",
    "get_shortest_sorted_list(nums,upper,lower)\n"
   ]
  },
  {
   "cell_type": "markdown",
   "id": "589c98cf-9c1d-4011-a89c-17c072a6bcfa",
   "metadata": {
    "tags": []
   },
   "source": [
    "# Ans 8"
   ]
  },
  {
   "cell_type": "code",
   "execution_count": 14,
   "id": "2010efcc-5989-4cc1-9f2b-ed93f706084b",
   "metadata": {
    "tags": []
   },
   "outputs": [],
   "source": [
    "def canAttend(intervals):\n",
    "    m = {}\n",
    "    m['start'] = intervals[0][0]\n",
    "    m['end'] = intervals[0][1]\n",
    "    for i in range(1,len(intervals)):\n",
    "        \n",
    "        if m['end'] > intervals[i][0]:\n",
    "            return False\n",
    "        else :\n",
    "            m['end'] = intervals[i][1]\n",
    "  \n",
    "    return True\n",
    "    \n",
    "    "
   ]
  },
  {
   "cell_type": "code",
   "execution_count": 15,
   "id": "48e5e90f-0c0b-48e4-8a6b-b7b2276f1d0b",
   "metadata": {
    "tags": []
   },
   "outputs": [
    {
     "data": {
      "text/plain": [
       "False"
      ]
     },
     "execution_count": 15,
     "metadata": {},
     "output_type": "execute_result"
    }
   ],
   "source": [
    "intervals = [[0,30],[5,10],[15,20]]\n",
    "canAttend(intervals)"
   ]
  },
  {
   "cell_type": "code",
   "execution_count": 16,
   "id": "58c315ae-b32c-41c0-aff5-ded92d36ad81",
   "metadata": {
    "tags": []
   },
   "outputs": [
    {
     "data": {
      "text/plain": [
       "True"
      ]
     },
     "execution_count": 16,
     "metadata": {},
     "output_type": "execute_result"
    }
   ],
   "source": [
    "intervals = [[0,5],[5,10],[15,20]]\n",
    "canAttend(intervals)"
   ]
  },
  {
   "cell_type": "code",
   "execution_count": null,
   "id": "765b945c-c9b1-4964-b62b-a65b47dcc615",
   "metadata": {},
   "outputs": [],
   "source": []
  }
 ],
 "metadata": {
  "kernelspec": {
   "display_name": "Python 3 (ipykernel)",
   "language": "python",
   "name": "python3"
  },
  "language_info": {
   "codemirror_mode": {
    "name": "ipython",
    "version": 3
   },
   "file_extension": ".py",
   "mimetype": "text/x-python",
   "name": "python",
   "nbconvert_exporter": "python",
   "pygments_lexer": "ipython3",
   "version": "3.8.10"
  }
 },
 "nbformat": 4,
 "nbformat_minor": 5
}
