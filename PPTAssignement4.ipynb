{
 "cells": [
  {
   "cell_type": "markdown",
   "id": "2abf1e11-e46d-4e2e-b9dc-fe42e9f2fe20",
   "metadata": {},
   "source": [
    "# PPT Assignement 4"
   ]
  },
  {
   "cell_type": "markdown",
   "id": "79e4d47f-1fd8-4586-b28a-464accfe09a4",
   "metadata": {
    "tags": []
   },
   "source": [
    "\n",
    "#### Assignement link https://pwskills.notion.site/Assignment-Questions-4-02c065c7a57a4018bbf33648c3689304"
   ]
  },
  {
   "cell_type": "markdown",
   "id": "59c783a7-8fd4-43b1-86a8-b91b891e9acd",
   "metadata": {
    "tags": []
   },
   "source": [
    "## Ans 1"
   ]
  },
  {
   "cell_type": "code",
   "execution_count": 7,
   "id": "0053e9c0-1531-4d7d-b9b7-4fecee5dd119",
   "metadata": {
    "tags": []
   },
   "outputs": [],
   "source": [
    "def binarySearch(nums:list, target:int)-> int:\n",
    "    high = len(nums)-1\n",
    "    low = 0\n",
    "    while low <= high :\n",
    "        mid = (high+low)//2\n",
    "        if nums[mid] == target:\n",
    "            return True\n",
    "        elif nums[mid] > target :\n",
    "            high = mid -1\n",
    "        else :\n",
    "            low = mid + 1\n",
    "    else:\n",
    "        return False\n",
    "\n",
    "def getCommonElement(*kwargs):\n",
    "    \n",
    "    l1 = len(arr1)\n",
    "    l2= len(arr2)\n",
    "    l3 = len(arr3)\n",
    "    l= min(l1,l2,l3)\n",
    "    common_ele = []\n",
    "    for i in range(l):\n",
    "        if binarySearch(arr2,arr1[i]) and binarySearch(arr3,arr1[i]):\n",
    "            common_ele.append(arr1[i])\n",
    "    return common_ele\n"
   ]
  },
  {
   "cell_type": "code",
   "execution_count": 8,
   "id": "8dcf698c-430a-47cf-a016-4857e0d14630",
   "metadata": {
    "tags": []
   },
   "outputs": [
    {
     "name": "stdout",
     "output_type": "stream",
     "text": [
      "[1, 5]\n"
     ]
    }
   ],
   "source": [
    "arr1 = [1,2,3,4,5]\n",
    "arr2 = [1,2,5,7,9]\n",
    "arr3 = [1,3,4,5,8]\n",
    "print(getCommonElement(arr1,arr2,arr3))"
   ]
  },
  {
   "cell_type": "markdown",
   "id": "c956f975-d2a3-4368-a5d3-c130fa8d314e",
   "metadata": {
    "tags": []
   },
   "source": [
    "## Ans 2"
   ]
  },
  {
   "cell_type": "code",
   "execution_count": 10,
   "id": "9b9a37ec-93c7-4efb-a702-ce11b3203ac0",
   "metadata": {
    "tags": []
   },
   "outputs": [],
   "source": [
    "def findDisjointIntegers(nums1, nums2):\n",
    "    set1 = set(nums1)\n",
    "    set2 = set(nums2)\n",
    "\n",
    "    distinct_nums1 = [num for num in set1 if num not in set2]\n",
    "    distinct_nums2 = [num for num in set2 if num not in set1]\n",
    "\n",
    "    return [distinct_nums1, distinct_nums2]\n"
   ]
  },
  {
   "cell_type": "code",
   "execution_count": 11,
   "id": "65b76f0b-ed73-4d64-8735-87fd79cf0247",
   "metadata": {
    "tags": []
   },
   "outputs": [
    {
     "name": "stdout",
     "output_type": "stream",
     "text": [
      "[[1, 2, 3], [6, 7, 8]]\n"
     ]
    }
   ],
   "source": [
    "nums1 = [1, 2, 3, 4, 5]\n",
    "nums2 = [4, 5, 6, 7, 8]\n",
    "result = findDisjointIntegers(nums1, nums2)\n",
    "print(result)"
   ]
  },
  {
   "cell_type": "markdown",
   "id": "3f7a09e4-e954-4826-8379-f34cf69ba590",
   "metadata": {
    "tags": []
   },
   "source": [
    "## Ans 3"
   ]
  },
  {
   "cell_type": "code",
   "execution_count": 13,
   "id": "c9fc8c4a-ef5b-455e-bf0e-38315d1598d0",
   "metadata": {
    "tags": []
   },
   "outputs": [],
   "source": [
    "def transpose(matrix):\n",
    "    rows = len(matrix)\n",
    "    columns = len(matrix[0])\n",
    "\n",
    "    transpose_matrix = [[0 for _ in range(rows)] for _ in range(columns)]\n",
    "\n",
    "    for i in range(rows):\n",
    "        for j in range(columns):\n",
    "            transpose_matrix[j][i] = matrix[i][j]\n",
    "\n",
    "    return transpose_matrix\n"
   ]
  },
  {
   "cell_type": "code",
   "execution_count": 17,
   "id": "9ad1f9b5-243c-4a48-a983-e4fb55921566",
   "metadata": {
    "tags": []
   },
   "outputs": [
    {
     "name": "stdout",
     "output_type": "stream",
     "text": [
      "[1, 4, 7]\n",
      "[2, 5, 8]\n"
     ]
    }
   ],
   "source": [
    "matrix = [[1, 2],\n",
    "          [4, 5],\n",
    "          [7, 8]]\n",
    "\n",
    "transposed_matrix = transpose(matrix)\n",
    "for row in transposed_matrix:\n",
    "    print(row)\n"
   ]
  },
  {
   "cell_type": "markdown",
   "id": "9e582e8f-af27-44f7-a277-07cdfa91e3c1",
   "metadata": {
    "tags": []
   },
   "source": [
    "## Ans 4"
   ]
  },
  {
   "cell_type": "code",
   "execution_count": 20,
   "id": "474665f8-748b-434b-8f04-6a0a044ed424",
   "metadata": {
    "tags": []
   },
   "outputs": [],
   "source": [
    "def array_pair_sum(nums):\n",
    "    nums.sort()\n",
    "    total_sum = 0\n",
    "    for i in range(0, len(nums), 2):\n",
    "        total_sum += nums[i]\n",
    "    return total_sum"
   ]
  },
  {
   "cell_type": "code",
   "execution_count": 21,
   "id": "a62167a3-f1b0-4f6f-8606-e81091d8886e",
   "metadata": {
    "tags": []
   },
   "outputs": [
    {
     "name": "stdout",
     "output_type": "stream",
     "text": [
      "4\n"
     ]
    }
   ],
   "source": [
    "nums = [1, 4, 3, 2]\n",
    "print(array_pair_sum(nums))"
   ]
  },
  {
   "cell_type": "markdown",
   "id": "4db95472-4cfc-42a7-a7e0-b6cd71ff0239",
   "metadata": {},
   "source": [
    "## Ans 5"
   ]
  },
  {
   "cell_type": "code",
   "execution_count": 22,
   "id": "8e351c6e-38b0-4f6c-96e8-54c106498cbb",
   "metadata": {
    "tags": []
   },
   "outputs": [],
   "source": [
    "\n",
    "def getRows(coins):\n",
    "    row = 0\n",
    "    if coins <= 0 :\n",
    "        return 0\n",
    "    elif coins == 1:\n",
    "        return 1\n",
    "    \n",
    "    while coins > 1 and row < coins:\n",
    "        \n",
    "        row +=1\n",
    "        coins = coins - row\n",
    "        \n",
    "        \n",
    "    return row"
   ]
  },
  {
   "cell_type": "code",
   "execution_count": 23,
   "id": "ccbef8d0-25bd-42b5-b6b7-af6c322484c9",
   "metadata": {
    "tags": []
   },
   "outputs": [
    {
     "data": {
      "text/plain": [
       "3"
      ]
     },
     "execution_count": 23,
     "metadata": {},
     "output_type": "execute_result"
    }
   ],
   "source": [
    "getRows(7)"
   ]
  },
  {
   "cell_type": "markdown",
   "id": "250fb80c-376e-4a6b-a4bc-963374bb8d04",
   "metadata": {},
   "source": [
    "## Ans 6"
   ]
  },
  {
   "cell_type": "code",
   "execution_count": 28,
   "id": "7b4f7236-29a2-4b64-b526-6a58184bacb6",
   "metadata": {
    "tags": []
   },
   "outputs": [],
   "source": [
    "def getNumber(nums):\n",
    "    nums = [ x*x for x in nums]\n",
    "    nums.sort()\n",
    "    return nums"
   ]
  },
  {
   "cell_type": "code",
   "execution_count": 29,
   "id": "4a88c3ab-b0f3-476b-8664-a2f0b3e2bd7a",
   "metadata": {
    "tags": []
   },
   "outputs": [
    {
     "name": "stdout",
     "output_type": "stream",
     "text": [
      "[0, 1, 9, 16, 100]\n"
     ]
    }
   ],
   "source": [
    "nums = [-4,-1,0,3,10]\n",
    "print(getNumber(nums))"
   ]
  },
  {
   "cell_type": "markdown",
   "id": "cd2ff37c-a4fd-46c0-a73a-3f8ea5caa26d",
   "metadata": {},
   "source": [
    "## Ans 7"
   ]
  },
  {
   "cell_type": "code",
   "execution_count": 30,
   "id": "72942c6b-17a8-4cd6-b563-6bc2c20bb6ee",
   "metadata": {
    "tags": []
   },
   "outputs": [],
   "source": [
    "def maxCount(m, n, ops):\n",
    "    if not ops:\n",
    "        return m * n\n",
    "\n",
    "    min_row = min(op[0] for op in ops)\n",
    "    min_col = min(op[1] for op in ops)\n",
    "\n",
    "    return min_row * min_col\n"
   ]
  },
  {
   "cell_type": "code",
   "execution_count": 31,
   "id": "eabf227e-bd77-40c9-9ed3-7677a10396c4",
   "metadata": {
    "tags": []
   },
   "outputs": [
    {
     "name": "stdout",
     "output_type": "stream",
     "text": [
      "4\n"
     ]
    }
   ],
   "source": [
    "m = 3\n",
    "n = 3\n",
    "ops = [[2, 2], [3, 3]]\n",
    "result = maxCount(m, n, ops)\n",
    "print(result)"
   ]
  },
  {
   "cell_type": "markdown",
   "id": "d5856e1b-7e69-4cb4-9d7d-77efa7a2ccfb",
   "metadata": {
    "tags": []
   },
   "source": [
    "## Ans 8"
   ]
  },
  {
   "cell_type": "code",
   "execution_count": 33,
   "id": "0c19a7a1-774c-4239-8d6f-274880d9a8c6",
   "metadata": {
    "tags": []
   },
   "outputs": [],
   "source": [
    "def arragee_in_pairs(nums):\n",
    "    if len(nums) % 2 !=0:\n",
    "        return nums\n",
    "    \n",
    "    mid = int(len(nums)/2)\n",
    "\n",
    "    sub1 = nums[:mid]\n",
    "    sub2 = nums[mid:]\n",
    "    j= 0 \n",
    "    for i in range(mid):\n",
    "        nums[j] = sub1[i]\n",
    "        nums[j+1] = sub2[i]\n",
    "        j += 2\n",
    "    return nums"
   ]
  },
  {
   "cell_type": "code",
   "execution_count": 34,
   "id": "4274a35d-57a5-4ece-9e3d-91362f14bc2e",
   "metadata": {
    "tags": []
   },
   "outputs": [
    {
     "name": "stdout",
     "output_type": "stream",
     "text": [
      "[2, 3, 5, 4, 1, 7]\n"
     ]
    }
   ],
   "source": [
    "nums = [2,5,1,3,4,7]\n",
    "print(arragee_in_pairs(nums))"
   ]
  },
  {
   "cell_type": "code",
   "execution_count": null,
   "id": "44bb5c28-a426-480f-b35f-63d1ada43c70",
   "metadata": {},
   "outputs": [],
   "source": []
  }
 ],
 "metadata": {
  "kernelspec": {
   "display_name": "Python 3 (ipykernel)",
   "language": "python",
   "name": "python3"
  },
  "language_info": {
   "codemirror_mode": {
    "name": "ipython",
    "version": 3
   },
   "file_extension": ".py",
   "mimetype": "text/x-python",
   "name": "python",
   "nbconvert_exporter": "python",
   "pygments_lexer": "ipython3",
   "version": "3.8.10"
  }
 },
 "nbformat": 4,
 "nbformat_minor": 5
}
