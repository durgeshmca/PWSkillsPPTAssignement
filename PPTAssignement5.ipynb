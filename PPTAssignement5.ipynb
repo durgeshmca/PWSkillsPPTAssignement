{
 "cells": [
  {
   "cell_type": "markdown",
   "id": "e0657311-1050-4944-a410-9ddc956ea3f4",
   "metadata": {
    "tags": []
   },
   "source": [
    "# PPT Assignement 5"
   ]
  },
  {
   "cell_type": "markdown",
   "id": "0f498a71-1230-42c4-9412-a3fbc0680e23",
   "metadata": {},
   "source": [
    "## Assignement link : https://pwskills.notion.site/Assignment-Questions-5-fcdc859d534e4784a69f89ea83174b85"
   ]
  },
  {
   "cell_type": "markdown",
   "id": "f0727660-2765-496b-8a77-ce2f9e148647",
   "metadata": {
    "tags": []
   },
   "source": [
    "## Ans 1"
   ]
  },
  {
   "cell_type": "code",
   "execution_count": 3,
   "id": "8dab15e1-b593-4d39-b8d1-d7e11a1bff70",
   "metadata": {
    "tags": []
   },
   "outputs": [],
   "source": [
    "def get2DArray(original,m,n):\n",
    "    mat = []\n",
    "    for i in range(m):\n",
    "        start = i*m\n",
    "        end = start + n\n",
    "        mat.append(original[start:end])\n",
    "    return mat"
   ]
  },
  {
   "cell_type": "code",
   "execution_count": 4,
   "id": "2ed31236-e03a-4596-b7e8-ddbdf115fc79",
   "metadata": {
    "tags": []
   },
   "outputs": [
    {
     "data": {
      "text/plain": [
       "[[1, 2, 3], [4, 5, 6], [7, 8, 9]]"
      ]
     },
     "execution_count": 4,
     "metadata": {},
     "output_type": "execute_result"
    }
   ],
   "source": [
    "original = [1,2,3,4,5,6,7,8,9]\n",
    "get2DArray(original,3,3)"
   ]
  },
  {
   "cell_type": "code",
   "execution_count": 5,
   "id": "8c70eac5-50e5-452e-b49a-b8c1da83f78c",
   "metadata": {
    "tags": []
   },
   "outputs": [
    {
     "data": {
      "text/plain": [
       "[[1, 2, 3], [3, 4, 5]]"
      ]
     },
     "execution_count": 5,
     "metadata": {},
     "output_type": "execute_result"
    }
   ],
   "source": [
    "get2DArray(original,2,3)"
   ]
  },
  {
   "cell_type": "markdown",
   "id": "f662d0d4-71bb-47c4-89ae-6999a493d6eb",
   "metadata": {},
   "source": [
    "## Ans 2"
   ]
  },
  {
   "cell_type": "code",
   "execution_count": 6,
   "id": "d4195938-84b0-4758-8f0e-4c9bfd75137b",
   "metadata": {
    "tags": []
   },
   "outputs": [],
   "source": [
    "\n",
    "def getRows(coins):\n",
    "    row = 0\n",
    "    if coins <= 0 :\n",
    "        return 0\n",
    "    elif coins == 1:\n",
    "        return 1\n",
    "    \n",
    "    while coins > 1 and row < coins:\n",
    "        \n",
    "        row +=1\n",
    "        coins = coins - row\n",
    "        \n",
    "        \n",
    "    return row"
   ]
  },
  {
   "cell_type": "code",
   "execution_count": 7,
   "id": "a6033d75-e88b-4c43-8c1d-137e55377fb8",
   "metadata": {
    "tags": []
   },
   "outputs": [
    {
     "data": {
      "text/plain": [
       "3"
      ]
     },
     "execution_count": 7,
     "metadata": {},
     "output_type": "execute_result"
    }
   ],
   "source": [
    "getRows(7)"
   ]
  },
  {
   "cell_type": "markdown",
   "id": "d85ca2c2-a192-491c-9f98-7ac6667913fd",
   "metadata": {},
   "source": [
    "## Ans 3"
   ]
  },
  {
   "cell_type": "code",
   "execution_count": 8,
   "id": "e7525a4a-7305-4d77-b7e7-560526ae171d",
   "metadata": {
    "tags": []
   },
   "outputs": [],
   "source": [
    "def getNumber(nums):\n",
    "    nums = [ x*x for x in nums]\n",
    "    nums.sort()\n",
    "    return nums"
   ]
  },
  {
   "cell_type": "code",
   "execution_count": 9,
   "id": "3d8cefc9-62e8-48ad-8daa-7d9f5b5a90df",
   "metadata": {
    "tags": []
   },
   "outputs": [
    {
     "name": "stdout",
     "output_type": "stream",
     "text": [
      "[0, 1, 9, 16, 100]\n"
     ]
    }
   ],
   "source": [
    "nums = [-4,-1,0,3,10]\n",
    "print(getNumber(nums))"
   ]
  },
  {
   "cell_type": "markdown",
   "id": "ef9f4681-c78e-4409-8abd-f929ac08c5af",
   "metadata": {},
   "source": [
    "## Ans 4"
   ]
  },
  {
   "cell_type": "code",
   "execution_count": 10,
   "id": "7b3a95b8-c8af-4332-b2be-2d59ed89f5f2",
   "metadata": {
    "tags": []
   },
   "outputs": [],
   "source": [
    "def findDisjointIntegers(nums1, nums2):\n",
    "    set1 = set(nums1)\n",
    "    set2 = set(nums2)\n",
    "\n",
    "    distinct_nums1 = [num for num in set1 if num not in set2]\n",
    "    distinct_nums2 = [num for num in set2 if num not in set1]\n",
    "\n",
    "    return [distinct_nums1, distinct_nums2]\n"
   ]
  },
  {
   "cell_type": "code",
   "execution_count": 11,
   "id": "abe2236a-815a-49cf-a5b3-074ac9d785ab",
   "metadata": {
    "tags": []
   },
   "outputs": [
    {
     "name": "stdout",
     "output_type": "stream",
     "text": [
      "[[1, 2, 3], [6, 7, 8]]\n"
     ]
    }
   ],
   "source": [
    "nums1 = [1, 2, 3, 4, 5]\n",
    "nums2 = [4, 5, 6, 7, 8]\n",
    "result = findDisjointIntegers(nums1, nums2)\n",
    "print(result)"
   ]
  },
  {
   "cell_type": "markdown",
   "id": "c0f09753-c241-4d58-9aec-eebc6ed3e364",
   "metadata": {
    "tags": []
   },
   "source": [
    "## Ans 5"
   ]
  },
  {
   "cell_type": "code",
   "execution_count": 13,
   "id": "879a4bb9-dfbe-4e55-a601-252c871ed553",
   "metadata": {
    "tags": []
   },
   "outputs": [],
   "source": [
    "def distanceValue(arr1, arr2, d):\n",
    "    count = 0\n",
    "\n",
    "    for num1 in arr1:\n",
    "        found = False\n",
    "        for num2 in arr2:\n",
    "            if abs(num1 - num2) <= d:\n",
    "                found = True\n",
    "                break\n",
    "        if not found:\n",
    "            count += 1\n",
    "\n",
    "    return count\n"
   ]
  },
  {
   "cell_type": "code",
   "execution_count": 14,
   "id": "ca9cf077-227f-484f-b03e-aa68194a31c6",
   "metadata": {
    "tags": []
   },
   "outputs": [
    {
     "name": "stdout",
     "output_type": "stream",
     "text": [
      "2\n"
     ]
    }
   ],
   "source": [
    "arr1 = [4,5,8]\n",
    "arr2 = [10,9,1,8]\n",
    "d = 2\n",
    "result = distanceValue(arr1, arr2, d)\n",
    "print(result)"
   ]
  },
  {
   "cell_type": "markdown",
   "id": "7fbe76ba-0863-4087-ad3c-dd1693e040fd",
   "metadata": {},
   "source": [
    "## Ans 6"
   ]
  },
  {
   "cell_type": "code",
   "execution_count": 15,
   "id": "1f5a926a-c88b-439f-a83c-f2e5be7deeff",
   "metadata": {
    "tags": []
   },
   "outputs": [],
   "source": [
    "def findDuplicates(nums):\n",
    "    seen = set()\n",
    "    duplicates = []\n",
    "\n",
    "    for num in nums:\n",
    "        if num in seen:\n",
    "            duplicates.append(num)\n",
    "        else:\n",
    "            seen.add(num)\n",
    "\n",
    "    return duplicates\n"
   ]
  },
  {
   "cell_type": "code",
   "execution_count": 16,
   "id": "4c735e10-002e-43a7-8150-6f7b844e3202",
   "metadata": {
    "tags": []
   },
   "outputs": [
    {
     "data": {
      "text/plain": [
       "[2, 3]"
      ]
     },
     "execution_count": 16,
     "metadata": {},
     "output_type": "execute_result"
    }
   ],
   "source": [
    " findDuplicates([4,3,2,7,8,2,3,1])"
   ]
  },
  {
   "cell_type": "markdown",
   "id": "312a7091-44f8-40b8-852f-1c410f3d1cd2",
   "metadata": {},
   "source": [
    "## Ans 7"
   ]
  },
  {
   "cell_type": "code",
   "execution_count": 17,
   "id": "0bb08cfc-3c2d-4dac-97f7-2444fce24666",
   "metadata": {
    "tags": []
   },
   "outputs": [],
   "source": [
    "def findMin(nums):\n",
    "    left = 0\n",
    "    right = len(nums) - 1\n",
    "\n",
    "    while left < right:\n",
    "        mid = left + (right - left) // 2\n",
    "\n",
    "        if nums[mid] > nums[right]:\n",
    "            left = mid + 1\n",
    "        else:\n",
    "            right = mid\n",
    "\n",
    "    return nums[left]\n"
   ]
  },
  {
   "cell_type": "code",
   "execution_count": 18,
   "id": "3f56eb45-046a-44d7-8121-15b725f05637",
   "metadata": {
    "tags": []
   },
   "outputs": [
    {
     "data": {
      "text/plain": [
       "1"
      ]
     },
     "execution_count": 18,
     "metadata": {},
     "output_type": "execute_result"
    }
   ],
   "source": [
    "nums = [3,4,5,1,2]\n",
    "findMin(nums)"
   ]
  },
  {
   "cell_type": "markdown",
   "id": "8c566dfe-8c32-4c5b-998a-0f38f4ebfb23",
   "metadata": {},
   "source": [
    "## Ans 8"
   ]
  },
  {
   "cell_type": "code",
   "execution_count": 37,
   "id": "0861b6e4-c202-4795-ac8e-bed62d489648",
   "metadata": {
    "tags": []
   },
   "outputs": [],
   "source": [
    "def findOriginalArray(changed):\n",
    "    if len(changed) % 2 != 0:\n",
    "        return []\n",
    "\n",
    "    # Sort the changed array to group doubled elements together\n",
    "    changed.sort()\n",
    "\n",
    "    original = []\n",
    "    seen = set()\n",
    "\n",
    "    for num in changed:\n",
    "        if num / 2 in seen:\n",
    "            seen.remove(num / 2)\n",
    "            original.append(int(num / 2))\n",
    "        else:\n",
    "            seen.add(num)\n",
    "\n",
    "    # If the seen set is empty, it means all elements have been paired, return the original array\n",
    "    if not seen:\n",
    "        return original\n",
    "    else:\n",
    "        return []\n"
   ]
  },
  {
   "cell_type": "code",
   "execution_count": 38,
   "id": "69b55f5b-6410-4e50-bdc2-e2573d5f5707",
   "metadata": {
    "tags": []
   },
   "outputs": [
    {
     "name": "stdout",
     "output_type": "stream",
     "text": [
      "[1, 3, 4]\n"
     ]
    }
   ],
   "source": [
    "changed = [1, 3, 4, 2, 6, 8]\n",
    "result = findOriginalArray(changed)\n",
    "print(result)\n"
   ]
  },
  {
   "cell_type": "code",
   "execution_count": null,
   "id": "7496325f-4f48-4cd0-8437-cb11c269a586",
   "metadata": {},
   "outputs": [],
   "source": []
  }
 ],
 "metadata": {
  "kernelspec": {
   "display_name": "Python 3 (ipykernel)",
   "language": "python",
   "name": "python3"
  },
  "language_info": {
   "codemirror_mode": {
    "name": "ipython",
    "version": 3
   },
   "file_extension": ".py",
   "mimetype": "text/x-python",
   "name": "python",
   "nbconvert_exporter": "python",
   "pygments_lexer": "ipython3",
   "version": "3.8.10"
  }
 },
 "nbformat": 4,
 "nbformat_minor": 5
}
