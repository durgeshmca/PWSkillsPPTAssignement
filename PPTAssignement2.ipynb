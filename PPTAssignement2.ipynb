{
 "cells": [
  {
   "cell_type": "markdown",
   "id": "35021945-021d-4769-800a-115a74cf9e79",
   "metadata": {},
   "source": [
    "##### Assignement link : https://pwskills.notion.site/Assignment-Questions-2-e29c1a36872a4b4ab6b3a2559c8a76bb"
   ]
  },
  {
   "cell_type": "markdown",
   "id": "ea204797-4900-4e93-9b78-e5e9f2eeaaf1",
   "metadata": {
    "tags": []
   },
   "source": [
    "## Ans 1"
   ]
  },
  {
   "cell_type": "code",
   "execution_count": 1,
   "id": "8f8ed2be-3aa3-4c0c-bb32-5f96422fec46",
   "metadata": {
    "tags": []
   },
   "outputs": [],
   "source": [
    "def array_pair_sum(nums):\n",
    "    nums.sort()\n",
    "    total_sum = 0\n",
    "    for i in range(0, len(nums), 2):\n",
    "        total_sum += nums[i]\n",
    "    return total_sum\n"
   ]
  },
  {
   "cell_type": "code",
   "execution_count": 2,
   "id": "838cb3c9-f1ed-4b98-9d47-c0788f0df34d",
   "metadata": {
    "tags": []
   },
   "outputs": [
    {
     "name": "stdout",
     "output_type": "stream",
     "text": [
      "4\n"
     ]
    }
   ],
   "source": [
    "nums = [1, 4, 3, 2]\n",
    "print(array_pair_sum(nums))\n"
   ]
  },
  {
   "cell_type": "markdown",
   "id": "cc26db27-a5b4-403a-b6e2-6fa7a4e37358",
   "metadata": {},
   "source": [
    "## Ans 2"
   ]
  },
  {
   "cell_type": "code",
   "execution_count": 3,
   "id": "f3085850-a71d-4492-884c-aedb239d5a27",
   "metadata": {
    "tags": []
   },
   "outputs": [],
   "source": [
    "def max_candies(candyType):\n",
    "    unique_types = set(candyType)\n",
    "    max_candies = min(len(unique_types), len(candyType) // 2)\n",
    "    return max_candies\n"
   ]
  },
  {
   "cell_type": "code",
   "execution_count": 4,
   "id": "1b9a96f7-cbe9-425c-9439-d03a4da95db4",
   "metadata": {
    "tags": []
   },
   "outputs": [
    {
     "name": "stdout",
     "output_type": "stream",
     "text": [
      "3\n"
     ]
    }
   ],
   "source": [
    "candyType = [1, 1, 2, 2, 3, 3]\n",
    "print(max_candies(candyType))\n"
   ]
  },
  {
   "cell_type": "markdown",
   "id": "bd5b3d1a-9f74-4cc3-94dd-6ba73af4236c",
   "metadata": {},
   "source": [
    "### Ans 3 "
   ]
  },
  {
   "cell_type": "code",
   "execution_count": 5,
   "id": "efd08ca1-7195-4ba9-9c7b-ab7d9398849d",
   "metadata": {
    "tags": []
   },
   "outputs": [],
   "source": [
    "from collections import defaultdict\n",
    "\n",
    "def findLHS(nums):\n",
    "    num_counts = defaultdict(int)\n",
    "    for num in nums:\n",
    "        num_counts[num] += 1\n",
    "\n",
    "    max_length = 0\n",
    "    for num in num_counts:\n",
    "        if num + 1 in num_counts:\n",
    "            length = num_counts[num] + num_counts[num + 1]\n",
    "            max_length = max(max_length, length)\n",
    "\n",
    "    return max_length\n"
   ]
  },
  {
   "cell_type": "code",
   "execution_count": 6,
   "id": "b1353b0b-2788-4c69-afe1-e637229dd3d8",
   "metadata": {
    "tags": []
   },
   "outputs": [
    {
     "name": "stdout",
     "output_type": "stream",
     "text": [
      "5\n"
     ]
    }
   ],
   "source": [
    "nums = [1, 3, 2, 2, 5, 2, 3, 7]\n",
    "print(findLHS(nums))\n"
   ]
  },
  {
   "cell_type": "markdown",
   "id": "100e704e-970a-4db4-a57a-eeb021d1fb69",
   "metadata": {},
   "source": [
    "## Ans 4"
   ]
  },
  {
   "cell_type": "code",
   "execution_count": 7,
   "id": "b08b9508-2c73-45f0-b858-bed9542c8696",
   "metadata": {
    "tags": []
   },
   "outputs": [],
   "source": [
    "def canPlaceFlowers(flowerbed, n):\n",
    "    length = len(flowerbed)\n",
    "    count = 0\n",
    "    for i in range(length):\n",
    "        if (\n",
    "            flowerbed[i] == 0\n",
    "            and (i == 0 or flowerbed[i - 1] == 0)\n",
    "            and (i == length - 1 or flowerbed[i + 1] == 0)\n",
    "        ):\n",
    "            flowerbed[i] = 1\n",
    "            count += 1\n",
    "            if count == n:\n",
    "                return True\n",
    "    return count >= n"
   ]
  },
  {
   "cell_type": "code",
   "execution_count": 8,
   "id": "c68befd8-7d84-431e-8536-f736f5be43b2",
   "metadata": {
    "tags": []
   },
   "outputs": [
    {
     "name": "stdout",
     "output_type": "stream",
     "text": [
      "True\n",
      "False\n"
     ]
    }
   ],
   "source": [
    "flowerbed = [1, 0, 0, 0, 1]\n",
    "n = 1\n",
    "print(canPlaceFlowers(flowerbed, n))\n",
    "\n",
    "flowerbed = [1, 0, 0, 0, 1]\n",
    "n = 2\n",
    "print(canPlaceFlowers(flowerbed, n))\n"
   ]
  },
  {
   "cell_type": "markdown",
   "id": "872c2028-79c5-4d80-a9a0-2dcdf4b455e0",
   "metadata": {},
   "source": [
    "## Ans 5"
   ]
  },
  {
   "cell_type": "code",
   "execution_count": 9,
   "id": "5b5185f0-eebb-4f3e-9c76-a4d989ce0645",
   "metadata": {
    "tags": []
   },
   "outputs": [],
   "source": [
    "def getMaximumProduct(nums):\n",
    "    l= len(nums)\n",
    "    if l >2:\n",
    "        nums.sort(reverse=True)\n",
    "        return nums[0]*nums[1]*nums[2]\n",
    "    elif l > 1  :\n",
    "        return nums[0]*nums[1]\n",
    "    elif l > 0 :\n",
    "        return nums[0]\n",
    "    else :\n",
    "        return 0"
   ]
  },
  {
   "cell_type": "code",
   "execution_count": 10,
   "id": "7cbf9682-3c3b-404e-865e-a1fb6374fbfe",
   "metadata": {
    "tags": []
   },
   "outputs": [
    {
     "data": {
      "text/plain": [
       "6"
      ]
     },
     "execution_count": 10,
     "metadata": {},
     "output_type": "execute_result"
    }
   ],
   "source": [
    "nums = [1,2,3]\n",
    "getMaximumProduct(nums)"
   ]
  },
  {
   "cell_type": "code",
   "execution_count": 11,
   "id": "0deb5c24-1594-42ce-b095-e07c25ec2208",
   "metadata": {
    "tags": []
   },
   "outputs": [
    {
     "data": {
      "text/plain": [
       "48"
      ]
     },
     "execution_count": 11,
     "metadata": {},
     "output_type": "execute_result"
    }
   ],
   "source": [
    "nums = [1,2,3,4,4,3]\n",
    "getMaximumProduct(nums)"
   ]
  },
  {
   "cell_type": "markdown",
   "id": "70e4555d-3369-4234-8cbb-2dbafa3211fa",
   "metadata": {},
   "source": [
    "## Ans 6"
   ]
  },
  {
   "cell_type": "code",
   "execution_count": 12,
   "id": "8b05ad7e-87de-4126-a012-d342cfb48800",
   "metadata": {
    "tags": []
   },
   "outputs": [],
   "source": [
    "def findTarget(nums:list,target:int)->int:\n",
    "    low = 0\n",
    "    high = len(nums) -1\n",
    "    while low <= high:\n",
    "        mid = (low + high) // 2\n",
    "        if nums[mid] == target :\n",
    "            return mid\n",
    "        elif nums[mid] > target :\n",
    "            high = mid - 1\n",
    "        else :\n",
    "            low = mid + 1\n",
    "            \n",
    "    return -1"
   ]
  },
  {
   "cell_type": "code",
   "execution_count": 13,
   "id": "32b486b7-3e13-49a3-86d3-ce07e3702314",
   "metadata": {
    "tags": []
   },
   "outputs": [
    {
     "name": "stdout",
     "output_type": "stream",
     "text": [
      "4\n",
      "1\n",
      "-1\n"
     ]
    }
   ],
   "source": [
    " nums = [-1,0,3,5,9,12]\n",
    "target = 9\n",
    "print(findTarget(nums,target))\n",
    "target = 0\n",
    "print(findTarget(nums,target))\n",
    "target = 2\n",
    "print(findTarget(nums,target))"
   ]
  },
  {
   "cell_type": "markdown",
   "id": "b8ca7e94-70bb-427e-bcee-09d15f8aa077",
   "metadata": {},
   "source": [
    "## Ans 7"
   ]
  },
  {
   "cell_type": "code",
   "execution_count": 14,
   "id": "1f107d40-70c7-455e-b0b9-5f892e20f69d",
   "metadata": {
    "tags": []
   },
   "outputs": [],
   "source": [
    "def checkMonotonic(nums):\n",
    "    for i in range(len(nums) -1):\n",
    "        if nums[i] > nums[i+1] :\n",
    "            return False\n",
    "        \n",
    "    return True\n"
   ]
  },
  {
   "cell_type": "code",
   "execution_count": 15,
   "id": "a95aad14-18ad-49bc-b669-8abd64004d2d",
   "metadata": {
    "tags": []
   },
   "outputs": [
    {
     "name": "stdout",
     "output_type": "stream",
     "text": [
      "True\n",
      "False\n"
     ]
    }
   ],
   "source": [
    "nums = [1,2,2,3]\n",
    "print(checkMonotonic(nums))\n",
    "nums = [1,2,2,3,4,3]\n",
    "print(checkMonotonic(nums))"
   ]
  },
  {
   "cell_type": "markdown",
   "id": "1f25c5f5-1155-4a51-bb5d-fc8a8aed73a0",
   "metadata": {},
   "source": [
    "## Ans 8"
   ]
  },
  {
   "cell_type": "code",
   "execution_count": 16,
   "id": "1e802025-2a05-422a-a78e-9a6e31f778ce",
   "metadata": {
    "tags": []
   },
   "outputs": [],
   "source": [
    "def minimumScore(nums, k):\n",
    "    max_num = max(nums)\n",
    "    min_num = min(nums)\n",
    "\n",
    "    if max_num - min_num <= 2 * k:\n",
    "        return 0\n",
    "\n",
    "    potential_max = max_num - k\n",
    "    potential_min = min_num + k\n",
    "\n",
    "    return potential_max - potential_min\n"
   ]
  },
  {
   "cell_type": "code",
   "execution_count": 17,
   "id": "4415f7d0-a3b8-4961-8645-db9e516a673b",
   "metadata": {
    "tags": []
   },
   "outputs": [
    {
     "name": "stdout",
     "output_type": "stream",
     "text": [
      "0\n"
     ]
    }
   ],
   "source": [
    "nums = [1]\n",
    "k = 0\n",
    "print(minimumScore(nums, k))\n"
   ]
  },
  {
   "cell_type": "code",
   "execution_count": null,
   "id": "e0d7bb49-06d3-410b-82a8-f46569e808ee",
   "metadata": {},
   "outputs": [],
   "source": []
  }
 ],
 "metadata": {
  "kernelspec": {
   "display_name": "Python 3 (ipykernel)",
   "language": "python",
   "name": "python3"
  },
  "language_info": {
   "codemirror_mode": {
    "name": "ipython",
    "version": 3
   },
   "file_extension": ".py",
   "mimetype": "text/x-python",
   "name": "python",
   "nbconvert_exporter": "python",
   "pygments_lexer": "ipython3",
   "version": "3.8.10"
  }
 },
 "nbformat": 4,
 "nbformat_minor": 5
}
