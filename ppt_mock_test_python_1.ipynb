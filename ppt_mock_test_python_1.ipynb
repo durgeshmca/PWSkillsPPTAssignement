{
 "cells": [
  {
   "cell_type": "markdown",
   "id": "12124078-ed1a-49fa-ab3b-4df2ad2f0c3a",
   "metadata": {
    "tags": []
   },
   "source": [
    "# PPT - DSA - Mock Test 1Python"
   ]
  },
  {
   "cell_type": "code",
   "execution_count": null,
   "id": "5490582d-318e-4a66-b958-aac58d1beebd",
   "metadata": {},
   "outputs": [],
   "source": []
  },
  {
   "cell_type": "markdown",
   "id": "2fd066d8-af48-4bc9-99e1-67b1722cf317",
   "metadata": {},
   "source": [
    "### 1. Move Zeroes\n",
    "\n",
    "### Given an integer array nums, move all 0's to the end of it while maintaining the relative order of the non-zero elements.\n",
    "\n",
    "### Note that you must do this in-place without making a copy of the array.\n",
    "\n",
    "### Example 1:\n",
    "### Input: nums = [0,1,0,3,12]\n",
    "### Output: [1,3,12,0,0]\n",
    "\n",
    "### Example 2:\n",
    "### Input: nums = [0]\n",
    "### Output: [0]\n",
    "\n",
    "### Constraints:\n",
    "### a. 1 <= nums.length <= 10^4\n",
    "### b. -2^31 <= nums[i] <= 2^31 - 1"
   ]
  },
  {
   "cell_type": "code",
   "execution_count": 9,
   "id": "64118c6b-c73c-43b3-a3d1-d6b8fe17e09c",
   "metadata": {
    "tags": []
   },
   "outputs": [],
   "source": [
    "def moveZeros(nums:list)-> list:\n",
    "    for i in range(len(nums)):\n",
    "        if nums[i] == 0 :\n",
    "            del nums[i]\n",
    "            nums.append(0)\n",
    "    return nums"
   ]
  },
  {
   "cell_type": "code",
   "execution_count": 11,
   "id": "92b47ace-b890-4c51-b65b-1719665189a4",
   "metadata": {
    "tags": []
   },
   "outputs": [
    {
     "name": "stdout",
     "output_type": "stream",
     "text": [
      "[1, 3, 12, 0, 0]\n",
      "[0]\n"
     ]
    }
   ],
   "source": [
    "nums = [0,1,0,3,12]\n",
    "print(moveZeros(nums))\n",
    "print(moveZeros([0]))\n"
   ]
  },
  {
   "cell_type": "markdown",
   "id": "f4fced19-df04-4957-923e-fb336b8b3ca5",
   "metadata": {
    "tags": []
   },
   "source": [
    "### 2. First Unique Character in a String\n",
    "\n",
    "### Given a string s, find the first non-repeating character in it and return its index. If it does not exist, return -1.\n",
    "\n",
    "### Example 1:\n",
    "### Input: s = \"leetcode\"\n",
    "### Output: 0\n",
    "\n",
    "### Example 2:\n",
    "### Input: s = \"loveleetcode\"\n",
    "### Output: 2\n",
    "\n",
    "### Example 3:\n",
    "### Input: s = \"aabb\"\n",
    "### Output: -1\n",
    "\n",
    "### Constraints:\n",
    "### a. 1 <= s.length <= 10^5\n",
    "### b. s consists of only lowercase English letters.\n"
   ]
  },
  {
   "cell_type": "code",
   "execution_count": 19,
   "id": "282a6858-1e26-4403-88c2-150291f69993",
   "metadata": {
    "tags": []
   },
   "outputs": [],
   "source": [
    "class Solution(object):\n",
    "    def firstUniqChar(self, s):\n",
    "        \"\"\"\n",
    "        :type s: str\n",
    "        :rtype: int\n",
    "        \"\"\"\n",
    "        # length of string\n",
    "        l = len(s)\n",
    "        if l == 1:\n",
    "            return 0\n",
    "\n",
    "        exist = set()\n",
    "        for i in range(l):\n",
    "            if s[i] in exist:\n",
    "                continue\n",
    "            for j in range(i+1,l):\n",
    "                if s[i] == s[j]:\n",
    "                    exist.add(s[i])\n",
    "                    break\n",
    "                \n",
    "                if j == l-1 and s[i] not in exist:\n",
    "                    return i\n",
    "            if i == l-1 and s[i] not in exist:\n",
    "                return i\n",
    "    \n",
    "        return -1"
   ]
  },
  {
   "cell_type": "code",
   "execution_count": 20,
   "id": "7101be69-92de-4b7f-93d0-ed086e0859d8",
   "metadata": {
    "tags": []
   },
   "outputs": [
    {
     "name": "stdout",
     "output_type": "stream",
     "text": [
      "0\n",
      "2\n",
      "-1\n"
     ]
    }
   ],
   "source": [
    "## test case\n",
    "sol = Solution()\n",
    "print(sol.firstUniqChar(\"leetcode\"))\n",
    "print(sol.firstUniqChar(\"loveleetcode\"))\n",
    "print(sol.firstUniqChar(\"aabb\"))"
   ]
  },
  {
   "cell_type": "code",
   "execution_count": null,
   "id": "5f18c9de-c735-487d-9423-cdfee8ee59e3",
   "metadata": {},
   "outputs": [],
   "source": []
  }
 ],
 "metadata": {
  "kernelspec": {
   "display_name": "Python 3 (ipykernel)",
   "language": "python",
   "name": "python3"
  },
  "language_info": {
   "codemirror_mode": {
    "name": "ipython",
    "version": 3
   },
   "file_extension": ".py",
   "mimetype": "text/x-python",
   "name": "python",
   "nbconvert_exporter": "python",
   "pygments_lexer": "ipython3",
   "version": "3.8.10"
  }
 },
 "nbformat": 4,
 "nbformat_minor": 5
}
